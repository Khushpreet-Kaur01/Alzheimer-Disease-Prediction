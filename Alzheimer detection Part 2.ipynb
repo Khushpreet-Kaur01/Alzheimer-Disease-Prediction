{
 "cells": [
  {
   "cell_type": "markdown",
   "metadata": {},
   "source": [
    "#### ⚖️ Part 6: Consuming Web Service : Creating second application to test our sample, explain and evaluate URL"
   ]
  },
  {
   "cell_type": "code",
   "execution_count": 9,
   "metadata": {},
   "outputs": [],
   "source": [
    "import requests"
   ]
  },
  {
   "cell_type": "markdown",
   "metadata": {},
   "source": [
    "##### ⏳Get web service to receive /Diagnosis/sample"
   ]
  },
  {
   "cell_type": "code",
   "execution_count": 10,
   "metadata": {},
   "outputs": [
    {
     "name": "stdout",
     "output_type": "stream",
     "text": [
      "{\n",
      "    \"ADL\": 1.7258834599,\n",
      "    \"Age\": 73.0,\n",
      "    \"AlcoholConsumption\": 13.2972177283,\n",
      "    \"BMI\": 22.927749231,\n",
      "    \"BehavioralProblems\": 0.0,\n",
      "    \"CholesterolTotal\": 242.3668396964,\n",
      "    \"Confusion\": 0.0,\n",
      "    \"Depression\": 1.0,\n",
      "    \"Diabetes\": 1.0,\n",
      "    \"Disorientation\": 0.0,\n",
      "    \"FamilyHistoryAlzheimers\": 0.0,\n",
      "    \"Forgetfulness\": 0.0,\n",
      "    \"FunctionalAssessment\": 6.5188769732,\n",
      "    \"Gender\": 0.0,\n",
      "    \"HeadInjury\": 0.0,\n",
      "    \"Hypertension\": 0.0,\n",
      "    \"MMSE\": 21.4635323643,\n",
      "    \"MemoryComplaints\": 0.0,\n",
      "    \"PersonalityChanges\": 0.0,\n",
      "    \"PhysicalActivity\": 6.3271124736\n",
      "}\n"
     ]
    }
   ],
   "source": [
    "import json\n",
    "response=requests.get(\"http://127.0.0.1:5000/Diagnosis/sample\")\n",
    "def jprint(obj):  #This is going to make json look nice, but does not output json\n",
    "    text=json.dumps(obj,sort_keys=True,indent=4)\n",
    "    print(text)\n",
    "jprint(response.json())"
   ]
  },
  {
   "cell_type": "markdown",
   "metadata": {},
   "source": [
    "##### 🧲Get web service to receive /Diagnosis/explain"
   ]
  },
  {
   "cell_type": "code",
   "execution_count": 11,
   "metadata": {},
   "outputs": [
    {
     "name": "stdout",
     "output_type": "stream",
     "text": [
      "The below given fields represent the dataset that deals with patient's record that predict the diagnosis of Alzheimer disease. \n",
      "\n",
      "Age: Age of the patient in years.\n",
      "Gender: Gender of the patient, where 0 = Male and 1 = Female.\n",
      "BMI: Body Mass Index (BMI) of the patient, calculated from height and weight.\n",
      "AlcoholConsumption: Average alcohol consumption in units per week.\n",
      "PhysicalActivity: Average physical activity in hours per week.\n",
      "FamilyHistoryAlzheimers: Family history of Alzheimer’s disease, where 0 = No and 1 = Yes.\n",
      "Diabetes: Whether the patient has diabetes, where 0 = No and 1 = Yes.\n",
      "Depression: Whether the patient has depression, where 0 = No and 1 = Yes.\n",
      "HeadInjury: History of head injury, where 0 = No and 1 = Yes.\n",
      "Hypertension: Presence of hypertension (high blood pressure), where 0 = No and 1 = Yes.\n",
      "CholesterolTotal: Total cholesterol level measured in mg/dL.\n",
      "MMSE: Mini-Mental State Examination (MMSE) score for cognitive function.\n",
      "FunctionalAssessment: Functional assessment score to evaluate daily activities.\n",
      "MemoryComplaints: Whether the patient has memory complaints, where 0 = No and 1 = Yes.\n",
      "BehavioralProblems: Behavioral issues like aggression or irritability, where 0 = No and 1 = Yes.\n",
      "ADL: Activities of Daily Living (ADL) score measuring independence in daily activities.\n",
      "Confusion: Whether the patient shows confusion, where 0 = No and 1 = Yes.\n",
      "Disorientation: Whether the patient is disoriented, where 0 = No and 1 = Yes.\n",
      "PersonalityChanges: Presence of personality changes, where 0 = No and 1 = Yes.\n",
      "Forgetfulness: Whether the patient is experiencing forgetfulness, where 0 = No and 1 = Yes.\n",
      "Diagnosis: Diagnosis of Alzheimer’s, where 0 = No Alzheimer’s and 1 = Alzheimer’s.\n"
     ]
    }
   ],
   "source": [
    "response=requests.get(\"http://127.0.0.1:5000/Diagnosis/explain\")\n",
    "print(response.text)"
   ]
  },
  {
   "cell_type": "markdown",
   "metadata": {},
   "source": [
    "##### 📌Post web service to predict five different values for /Diagnosis/evaluate"
   ]
  },
  {
   "cell_type": "code",
   "execution_count": 18,
   "metadata": {},
   "outputs": [
    {
     "name": "stdout",
     "output_type": "stream",
     "text": [
      "\"1\"\n"
     ]
    }
   ],
   "source": [
    "predict_diagnosis1={\n",
    "    \"Age\":41.0,\n",
    "    \"Gender\":1.0,\n",
    "    \"BMI\":22.927749231,\n",
    "    \"AlcoholConsumption\":1.2972177283,\n",
    "    \"PhysicalActivity\":19.3271124736,\n",
    "    \"FamilyHistoryAlzheimers\":0.0,\n",
    "    \"Diabetes\":1.0,\n",
    "    \"Depression\":1.0,\n",
    "    \"HeadInjury\":0.0,\n",
    "    \"Hypertension\":0.0,\n",
    "    \"CholesterolTotal\":242.3668396964,\n",
    "    \"MMSE\":21.4635323643,\n",
    "    \"FunctionalAssessment\":6.5188769732,\n",
    "    \"MemoryComplaints\":0.0,\n",
    "    \"BehavioralProblems\":1.0,\n",
    "    \"ADL\":1.7258834599,\n",
    "    \"Confusion\":1.0,\n",
    "    \"Disorientation\":1.0,\n",
    "    \"PersonalityChanges\":1.0,\n",
    "    \"Forgetfulness\":1.0\n",
    "    }\n",
    "response=requests.post(\"http://127.0.0.1:5000/Diagnosis/evaluate\",json=predict_diagnosis1)\n",
    "jprint(response.text)"
   ]
  },
  {
   "cell_type": "code",
   "execution_count": 13,
   "metadata": {},
   "outputs": [
    {
     "name": "stdout",
     "output_type": "stream",
     "text": [
      "\"0\"\n"
     ]
    }
   ],
   "source": [
    "predict_diagnosis2={\n",
    "  \"Age\": 52.0,\n",
    "  \"Gender\": 0.0,\n",
    "  \"BMI\": 23.8,\n",
    "  \"AlcoholConsumption\": 0.0,\n",
    "  \"PhysicalActivity\": 10.0,\n",
    "  \"FamilyHistoryAlzheimers\": 1.0,\n",
    "  \"Diabetes\": 1.0,\n",
    "  \"Depression\": 0.0,\n",
    "  \"HeadInjury\": 0.0,\n",
    "  \"Hypertension\": 1.0,\n",
    "  \"CholesterolTotal\": 210.4,\n",
    "  \"MMSE\": 27.5,\n",
    "  \"FunctionalAssessment\": 5.0,\n",
    "  \"MemoryComplaints\": 0.0,\n",
    "  \"BehavioralProblems\": 0.0,\n",
    "  \"ADL\": 1.3,\n",
    "  \"Confusion\": 1.0,\n",
    "  \"Disorientation\": 0.0,\n",
    "  \"PersonalityChanges\": 0.0,\n",
    "  \"Forgetfulness\": 0.0\n",
    "}\n",
    "response=requests.post(\"http://127.0.0.1:5000/Diagnosis/evaluate\",json=predict_diagnosis2)\n",
    "jprint(response.text)"
   ]
  },
  {
   "cell_type": "code",
   "execution_count": 14,
   "metadata": {},
   "outputs": [
    {
     "name": "stdout",
     "output_type": "stream",
     "text": [
      "\"1\"\n"
     ]
    }
   ],
   "source": [
    "predict_diagnosis3={\n",
    "  \"Age\": 67.0,\n",
    "  \"Gender\": 1.0,\n",
    "  \"BMI\": 26.5,\n",
    "  \"AlcoholConsumption\": 0.0,\n",
    "  \"PhysicalActivity\": 5.0,\n",
    "  \"FamilyHistoryAlzheimers\": 1.0,\n",
    "  \"Diabetes\": 0.0,\n",
    "  \"Depression\": 1.0,\n",
    "  \"HeadInjury\": 1.0,\n",
    "  \"Hypertension\": 1.0,\n",
    "  \"CholesterolTotal\": 275.3,\n",
    "  \"MMSE\": 18.0,\n",
    "  \"FunctionalAssessment\": 9.2,\n",
    "  \"MemoryComplaints\": 1.0,\n",
    "  \"BehavioralProblems\": 1.0,\n",
    "  \"ADL\": 2.5,\n",
    "  \"Confusion\": 1.0,\n",
    "  \"Disorientation\": 1.0,\n",
    "  \"PersonalityChanges\": 1.0,\n",
    "  \"Forgetfulness\": 1.0,\n",
    " \n",
    "}\n",
    "\n",
    "response=requests.post(\"http://127.0.0.1:5000/Diagnosis/evaluate\",json=predict_diagnosis3)\n",
    "jprint(response.text)"
   ]
  },
  {
   "cell_type": "code",
   "execution_count": 15,
   "metadata": {},
   "outputs": [
    {
     "name": "stdout",
     "output_type": "stream",
     "text": [
      "\"1\"\n"
     ]
    }
   ],
   "source": [
    "predict_diagnosis4={\n",
    "  \"Age\": 74.0,\n",
    "  \"Gender\": 1.0,\n",
    "  \"BMI\": 28.9,\n",
    "  \"AlcoholConsumption\": 1.5,\n",
    "  \"PhysicalActivity\": 3.0,\n",
    "  \"FamilyHistoryAlzheimers\": 1.0,\n",
    "  \"Diabetes\": 1.0,\n",
    "  \"Depression\": 1.0,\n",
    "  \"HeadInjury\": 0.0,\n",
    "  \"Hypertension\": 0.0,\n",
    "  \"CholesterolTotal\": 298.7,\n",
    "  \"MMSE\": 15.8,\n",
    "  \"FunctionalAssessment\": 11.0,\n",
    "  \"MemoryComplaints\": 1.0,\n",
    "  \"BehavioralProblems\": 1.0,\n",
    "  \"ADL\": 3.4,\n",
    "  \"Confusion\": 0.0,\n",
    "  \"Disorientation\": 0.0,\n",
    "  \"PersonalityChanges\": 1.0,\n",
    "  \"Forgetfulness\": 0.0,\n",
    " \n",
    "}\n",
    "\n",
    "response=requests.post(\"http://127.0.0.1:5000/Diagnosis/evaluate\",json=predict_diagnosis4)\n",
    "jprint(response.text)"
   ]
  },
  {
   "cell_type": "code",
   "execution_count": 16,
   "metadata": {},
   "outputs": [
    {
     "name": "stdout",
     "output_type": "stream",
     "text": [
      "\"0\"\n"
     ]
    }
   ],
   "source": [
    "predict_diagnosis5={\n",
    "  \"Age\": 60.0,\n",
    "  \"Gender\": 0.0,\n",
    "  \"BMI\": 24.7,\n",
    "  \"AlcoholConsumption\": 0.5,\n",
    "  \"PhysicalActivity\": 8.5,\n",
    "  \"FamilyHistoryAlzheimers\": 0.0,\n",
    "  \"Diabetes\": 0.0,\n",
    "  \"Depression\": 1.0,\n",
    "  \"HeadInjury\": 1.0,\n",
    "  \"Hypertension\": 0.0,\n",
    "  \"CholesterolTotal\": 195.2,\n",
    "  \"MMSE\": 29.0,\n",
    "  \"FunctionalAssessment\": 4.5,\n",
    "  \"MemoryComplaints\": 0.0,\n",
    "  \"BehavioralProblems\": 0.0,\n",
    "  \"ADL\": 1.1,\n",
    "  \"Confusion\": 1.0,\n",
    "  \"Disorientation\": 1.0,\n",
    "  \"PersonalityChanges\": 0.0,\n",
    "  \"Forgetfulness\": 1.0,\n",
    "  \n",
    "}\n",
    "response=requests.post(\"http://127.0.0.1:5000/Diagnosis/evaluate\",json=predict_diagnosis5)\n",
    "jprint(response.text)"
   ]
  }
 ],
 "metadata": {
  "kernelspec": {
   "display_name": "base",
   "language": "python",
   "name": "python3"
  },
  "language_info": {
   "codemirror_mode": {
    "name": "ipython",
    "version": 3
   },
   "file_extension": ".py",
   "mimetype": "text/x-python",
   "name": "python",
   "nbconvert_exporter": "python",
   "pygments_lexer": "ipython3",
   "version": "3.12.7"
  }
 },
 "nbformat": 4,
 "nbformat_minor": 2
}
